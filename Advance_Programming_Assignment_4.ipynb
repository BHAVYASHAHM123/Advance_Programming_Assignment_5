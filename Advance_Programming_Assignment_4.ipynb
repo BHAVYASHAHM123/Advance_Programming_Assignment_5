{
  "cells": [
    {
      "cell_type": "markdown",
      "source": [
        "Q1) In mathematics, the Fibonacci numbers, commonly denoted Fn, form a\n",
        "sequence, called the Fibonacci sequence, such that each number is the sum\n",
        "of the two preceding ones, starting from 0 and 1:\n",
        "\n",
        "The beginning of the sequence is this:\n",
        "0, 1, 1, 2, 3, 5, 8, 13, 21, 34, 55, 89, 144, ...\n",
        "The function fastFib(num) returns the fibonacci number Fn, of the given num\n",
        "as an argument.\n",
        "Examples\n",
        "fib_fast(5) ➞ 5\n",
        "fib_fast(10) ➞ 55\n",
        "fib_fast(20) ➞ 6765\n",
        "fib_fast(50) ➞ 12586269025"
      ],
      "metadata": {
        "id": "e_ny6qx_qG-5"
      },
      "id": "e_ny6qx_qG-5"
    },
    {
      "cell_type": "code",
      "execution_count": 2,
      "id": "a47113e9",
      "metadata": {
        "colab": {
          "base_uri": "https://localhost:8080/"
        },
        "id": "a47113e9",
        "outputId": "a9738a97-527f-44ea-e9d1-598a75a489a5"
      },
      "outputs": [
        {
          "output_type": "stream",
          "name": "stdout",
          "text": [
            "5\n",
            "55\n",
            "6765\n"
          ]
        }
      ],
      "source": [
        "def fib_fast(n):\n",
        "    if n == 0:\n",
        "        return 0\n",
        "    if n == 1 or n == 2:\n",
        "        return 1\n",
        "    if n > 1:\n",
        "        return fib_fast(n-1) + fib_fast(n-2)\n",
        "    \n",
        "print(fib_fast(5))\n",
        "print(fib_fast(10))\n",
        "print(fib_fast(20))\n"
      ]
    },
    {
      "cell_type": "markdown",
      "id": "c9929f12",
      "metadata": {
        "id": "c9929f12"
      },
      "source": [
        "Q2). Create a function that takes a strings characters as ASCII and returns each characters hexadecimal value as a string.\n",
        "\n",
        "Examples\n",
        "\n",
        "convert_to_hex(\"hello world\") ➞ \"68 65 6c 6c 6f 20 77 6f 72 6c 64\"\n",
        "\n",
        "convert_to_hex(\"Big Boi\") ➞ \"42 69 67 20 42 6f 69\"\n",
        "\n",
        "convert_to_hex(\"Marty Poppinson\") ➞ \"4d 61 72 74 79 20 50 6f 70 70 69 6e 73 6f 6e\"\n",
        "\n"
      ]
    },
    {
      "cell_type": "code",
      "execution_count": 10,
      "id": "78f59080",
      "metadata": {
        "colab": {
          "base_uri": "https://localhost:8080/"
        },
        "id": "78f59080",
        "outputId": "3a934168-af79-4d03-aa57-c0bf2466d92b"
      },
      "outputs": [
        {
          "output_type": "stream",
          "name": "stdout",
          "text": [
            "68656c6c6f20776f726c64\n",
            "42696720426f69\n",
            "4d6172747920506f7070696e736f6e\n"
          ]
        }
      ],
      "source": [
        "def convert_to_hex(s):\n",
        "    s = s.encode('utf-8')\n",
        "    return s.hex()\n",
        "\n",
        "print(convert_to_hex(\"hello world\"))\n",
        "print(convert_to_hex(\"Big Boi\"))\n",
        "print(convert_to_hex(\"Marty Poppinson\"))\n"
      ]
    },
    {
      "cell_type": "markdown",
      "id": "b86c05b5",
      "metadata": {
        "id": "b86c05b5"
      },
      "source": [
        "Q3). Someone has attempted to censor my strings by replacing every vowel with a *, l*k* th*s. Luckily, I've been able to find the vowels that were removed.\n",
        "\n",
        "Given a censored string and a string of the censored vowels, return the original uncensored string.\n",
        "\n",
        "Example\n",
        "\n",
        "uncensor(\"Wh*r* d*d my v*w*ls g*?\", \"eeioeo\") ➞ \"Where did my vowels go?\"\n",
        "\n",
        "uncensor(\"abcd\", \"\") ➞ \"abcd\"\n",
        "\n",
        "uncensor(\"*PP*RC*S*\", \"UEAE\") ➞ \"UPPERCASE\""
      ]
    },
    {
      "cell_type": "code",
      "execution_count": 4,
      "id": "203311eb",
      "metadata": {
        "colab": {
          "base_uri": "https://localhost:8080/"
        },
        "id": "203311eb",
        "outputId": "90532abd-2220-492e-9285-53c920cc55e7"
      },
      "outputs": [
        {
          "output_type": "stream",
          "name": "stdout",
          "text": [
            "Where did my vowels go?\n",
            "abcd\n",
            "UPPERCASE\n"
          ]
        }
      ],
      "source": [
        "def uncensor(s,s1):\n",
        "    i = 0 \n",
        "    \n",
        "    for letter in s:\n",
        "        if letter == '*':\n",
        "            s = s.replace('*', s1[i],1)\n",
        "            i += 1\n",
        "    return s\n",
        "\n",
        "print(uncensor(\"Wh*r* d*d my v*w*ls g*?\", \"eeioeo\"))\n",
        "print(uncensor(\"abcd\", \"\"))\n",
        "print(uncensor(\"*PP*RC*S*\", \"UEAE\"))\n"
      ]
    },
    {
      "cell_type": "markdown",
      "id": "51fc7ea7",
      "metadata": {
        "id": "51fc7ea7"
      },
      "source": [
        "Q4). Write a function that takes an IP address and returns the domain name using PTR DNS records.\n",
        "\n",
        "Example\n",
        "\n",
        "get_domain(\"8.8.8.8\") ➞ \"dns.google\"\n",
        "\n",
        "get_domain(\"8.8.4.4\") ➞ \"dns.google\""
      ]
    },
    {
      "cell_type": "code",
      "execution_count": null,
      "id": "6e672cfe",
      "metadata": {
        "id": "6e672cfe",
        "outputId": "99ca7149-c8cc-448d-f98d-d9646020d5a5"
      },
      "outputs": [
        {
          "name": "stdout",
          "output_type": "stream",
          "text": [
            "dns.google\n",
            "dns.google\n",
            "ineuron.interactivedns.com\n"
          ]
        }
      ],
      "source": [
        "\n",
        "import socket\n",
        "\n",
        "def get_domain(ip_address):\n",
        "    return socket.gethostbyaddr(ip_address)[0]\n",
        "\n",
        "print(get_domain(\"8.8.8.8\"))\n",
        "print(get_domain(\"8.8.4.4\"))\n",
        "print(get_domain(\"172.105.51.234\"))"
      ]
    },
    {
      "cell_type": "markdown",
      "id": "7623dd23",
      "metadata": {
        "id": "7623dd23"
      },
      "source": [
        "Q5). Create a function that takes an integer n and returns the factorial of factorials. See below examples for a better understanding:\n",
        "\n",
        "Examples\n",
        "\n",
        "fact_of_fact(4) ➞ 288\n",
        "4! * 3! * 2! * 1! = 288\n",
        "\n",
        "fact_of_fact(5) ➞ 34560\n",
        "\n",
        "fact_of_fact(6) ➞ 24883200\n"
      ]
    },
    {
      "cell_type": "code",
      "execution_count": 5,
      "id": "412672d8",
      "metadata": {
        "colab": {
          "base_uri": "https://localhost:8080/"
        },
        "id": "412672d8",
        "outputId": "0ca3c56d-6e0f-44e1-ce59-f37cf69cb16b"
      },
      "outputs": [
        {
          "output_type": "stream",
          "name": "stdout",
          "text": [
            "288\n",
            "34560\n",
            "24883200\n"
          ]
        }
      ],
      "source": [
        "def fact(n):\n",
        "    if n == 0 or n == 1:\n",
        "        return 1\n",
        "    \n",
        "    else:\n",
        "        return n * fact(n-1)\n",
        "    \n",
        "def fact_of_fact(n):\n",
        "    result = 1\n",
        "    while n > 1:\n",
        "        result *= fact(n)\n",
        "        n -= 1\n",
        "    return result   \n",
        "\n",
        "print(fact_of_fact(4)) \n",
        "print(fact_of_fact(5))\n",
        "print(fact_of_fact(6))"
      ]
    },
    {
      "cell_type": "code",
      "source": [
        ""
      ],
      "metadata": {
        "id": "uCdgKB6IqkRb"
      },
      "id": "uCdgKB6IqkRb",
      "execution_count": null,
      "outputs": []
    }
  ],
  "metadata": {
    "kernelspec": {
      "display_name": "Python 3",
      "language": "python",
      "name": "python3"
    },
    "language_info": {
      "codemirror_mode": {
        "name": "ipython",
        "version": 3
      },
      "file_extension": ".py",
      "mimetype": "text/x-python",
      "name": "python",
      "nbconvert_exporter": "python",
      "pygments_lexer": "ipython3",
      "version": "3.8.8"
    },
    "colab": {
      "name": "Advance_Programming_Assignment_4.ipynb",
      "provenance": []
    }
  },
  "nbformat": 4,
  "nbformat_minor": 5
}